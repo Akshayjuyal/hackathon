{
 "cells": [
  {
   "cell_type": "code",
   "execution_count": 43,
   "metadata": {},
   "outputs": [
    {
     "name": "stdout",
     "output_type": "stream",
     "text": [
      "C:\\Users\\hackathonuser1\\Documents\\financial profile\n"
     ]
    }
   ],
   "source": [
    "import json\n",
    "import os\n",
    "\n",
    "dir_path = os.path.dirname(os.path.realpath('insertdata')) \n",
    "print (dir_path)\n"
   ]
  },
  {
   "cell_type": "code",
   "execution_count": 44,
   "metadata": {},
   "outputs": [],
   "source": [
    "with open (os.path.join(dir_path,\"company_data\",\"companyList_Ticker.json\")) as company:\n",
    "        company_data=json.load(company) \n",
    "        tickers = company_data.keys()"
   ]
  },
  {
   "cell_type": "code",
   "execution_count": 45,
   "metadata": {},
   "outputs": [
    {
     "data": {
      "text/plain": [
       "dict_keys(['WMT', 'AMZN', 'AAPL', 'XOM', 'MCK', 'UNH', 'CVS', 'GM', 'F'])"
      ]
     },
     "execution_count": 45,
     "metadata": {},
     "output_type": "execute_result"
    }
   ],
   "source": [
    "company_data.keys()"
   ]
  },
  {
   "cell_type": "code",
   "execution_count": 46,
   "metadata": {},
   "outputs": [
    {
     "data": {
      "text/plain": [
       "dict_keys(['company_name', 'discription', 'financial'])"
      ]
     },
     "execution_count": 46,
     "metadata": {},
     "output_type": "execute_result"
    }
   ],
   "source": [
    "company_data['WMT'].keys()"
   ]
  },
  {
   "cell_type": "code",
   "execution_count": 47,
   "metadata": {},
   "outputs": [
    {
     "data": {
      "text/plain": [
       "dict_keys(['annual_profile', 'quaterly_profile', 'annual_cashflow_profile', 'quaterly_cashflow_profile', 'annual_financial_ratio_profile', 'annual_enterprise_profile', 'quaterly_enterprise_profile', 'annual_financial_growth_profile', 'quaterly_financial_growth_profile', 'company_hist_growth'])"
      ]
     },
     "execution_count": 47,
     "metadata": {},
     "output_type": "execute_result"
    }
   ],
   "source": [
    "company_data['WMT']['financial'].keys()"
   ]
  },
  {
   "cell_type": "code",
   "execution_count": 36,
   "metadata": {},
   "outputs": [],
   "source": [
    "for key,value in company_data.items():\n",
    "    company_data[key]['company_name'] = value['company_name'].lower().replace(' ','_')"
   ]
  },
  {
   "cell_type": "code",
   "execution_count": 77,
   "metadata": {},
   "outputs": [
    {
     "data": {
      "text/plain": [
       "dict_keys(['annual_profile', 'quaterly_profile', 'annual_cashflow_profile', 'quaterly_cashflow_profile', 'annual_financial_ratio_profile', 'annual_enterprise_profile', 'quaterly_enterprise_profile', 'annual_financial_growth_profile', 'quaterly_financial_growth_profile', 'company_hist_growth'])"
      ]
     },
     "execution_count": 77,
     "metadata": {},
     "output_type": "execute_result"
    }
   ],
   "source": [
    "company_data['WMT']['financial'].keys()"
   ]
  },
  {
   "cell_type": "code",
   "execution_count": 90,
   "metadata": {},
   "outputs": [],
   "source": [
    "final_financial_cols = ['annual_profile', 'annual_financial_ratio_profile', 'annual_enterprise_profile','annual_financial_growth_profile']"
   ]
  },
  {
   "cell_type": "code",
   "execution_count": 91,
   "metadata": {},
   "outputs": [],
   "source": [
    "final_company_profile = []\n",
    "for key,value in company_data.items():\n",
    "    final_dict = dict()\n",
    "    for fkey,fvalue in value.items():\n",
    "        if fkey == 'company_name':\n",
    "            final_dict['company_name'] = fvalue.lower().replace(' ', '_')\n",
    "        elif fkey == 'discription':\n",
    "            final_dict['description'] = fvalue\n",
    "        elif fkey == 'financial':\n",
    "            for akey,avalue in fvalue.items():\n",
    "                if akey in final_financial_cols:\n",
    "                    final_dict[akey] = avalue\n",
    "    final_company_profile.append(final_dict)"
   ]
  },
  {
   "cell_type": "code",
   "execution_count": 94,
   "metadata": {},
   "outputs": [
    {
     "name": "stdout",
     "output_type": "stream",
     "text": [
      "walmart\n",
      "amazon.com,_inc.\n",
      "apple_inc\n",
      "exxon_mobil\n",
      "mckesson_corporation\n",
      "unitedhealth_group\n",
      "cvs_health\n",
      "general_motors\n",
      "ford\n"
     ]
    }
   ],
   "source": [
    "for company in final_company_profile:\n",
    "    print(company.get('company_name'))"
   ]
  }
 ],
 "metadata": {
  "kernelspec": {
   "display_name": "Python 3",
   "language": "python",
   "name": "python3"
  },
  "language_info": {
   "codemirror_mode": {
    "name": "ipython",
    "version": 3
   },
   "file_extension": ".py",
   "mimetype": "text/x-python",
   "name": "python",
   "nbconvert_exporter": "python",
   "pygments_lexer": "ipython3",
   "version": "3.7.3"
  }
 },
 "nbformat": 4,
 "nbformat_minor": 2
}
